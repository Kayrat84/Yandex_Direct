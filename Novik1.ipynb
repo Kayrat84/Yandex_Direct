{
 "cells": [
  {
   "cell_type": "code",
   "execution_count": 39,
   "id": "d542a25b",
   "metadata": {},
   "outputs": [
    {
     "name": "stdout",
     "output_type": "stream",
     "text": [
      "                          Name      Id    Status           Type\n",
      "0  Test API Sandbox campaign 1  412378  ACCEPTED  TEXT_CAMPAIGN\n",
      "1  Test API Sandbox campaign 2  412379     DRAFT  TEXT_CAMPAIGN\n",
      "2  Test API Sandbox campaign 3  412380     DRAFT  TEXT_CAMPAIGN\n"
     ]
    }
   ],
   "source": [
    "import requests\n",
    "import json\n",
    "from requests.structures import CaseInsensitiveDict\n",
    "import pandas as pd\n",
    "\n",
    "url = \"https://api-sandbox.direct.yandex.com/json/v5/campaigns\"\n",
    "\n",
    "headers = CaseInsensitiveDict()\n",
    "headers[\"Accept\"] = \"application/json\"\n",
    "headers[\"Accept-Language\"] = \"ru\"\n",
    "headers[\"Content-Type\"] = \"application/json\"\n",
    "headers[\"Authorization\"] = \"Bearer AQAAAABTiuqSAAcDr5FZzH4my0-dhZVQpd-z9a0\"\n",
    "\n",
    "data = \"\"\"\n",
    "{\n",
    "  \"method\": \"get\",\n",
    "  \"params\": {\n",
    "    \"SelectionCriteria\": {},\n",
    "    \"FieldNames\": [\"Id\", \"Name\",\"Status\", \"Type\"]\n",
    "}\n",
    "}\n",
    "\"\"\"\n",
    "\n",
    "resp = requests.post(url, headers=headers, data=data)\n",
    "data = json.loads(resp.text)\n",
    "df = pd.DataFrame(data['result']['Campaigns'])\n",
    "print(df)"
   ]
  }
 ],
 "metadata": {
  "kernelspec": {
   "display_name": "Python 3",
   "language": "python",
   "name": "python3"
  },
  "language_info": {
   "codemirror_mode": {
    "name": "ipython",
    "version": 3
   },
   "file_extension": ".py",
   "mimetype": "text/x-python",
   "name": "python",
   "nbconvert_exporter": "python",
   "pygments_lexer": "ipython3",
   "version": "3.8.8"
  }
 },
 "nbformat": 4,
 "nbformat_minor": 5
}
